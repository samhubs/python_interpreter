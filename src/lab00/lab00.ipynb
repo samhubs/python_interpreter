{
 "cells": [
  {
   "cell_type": "code",
   "execution_count": 1,
   "source": [
    "x = 5\n",
    "\n",
    "def twenty_twenty_four():\n",
    "    \"\"\"Come up with the most creative expression that evaluates to 2024\n",
    "    using only numbers and the +, *, and - operators.\n",
    "\n",
    "    >>> twenty_twenty_four()\n",
    "    2024\n",
    "    \"\"\"\n",
    "    return 100*20 + 28 - 4\n",
    "\n",
    "print(twenty_twenty_four())"
   ],
   "outputs": [
    {
     "output_type": "stream",
     "name": "stdout",
     "text": [
      "2024\n"
     ]
    }
   ],
   "metadata": {}
  },
  {
   "cell_type": "code",
   "execution_count": 2,
   "source": [
    "x = 10"
   ],
   "outputs": [],
   "metadata": {}
  },
  {
   "cell_type": "code",
   "execution_count": 3,
   "source": [
    "print(twenty_twenty_four()*2)"
   ],
   "outputs": [
    {
     "output_type": "stream",
     "name": "stdout",
     "text": [
      "4048\n"
     ]
    }
   ],
   "metadata": {}
  },
  {
   "cell_type": "code",
   "execution_count": 4,
   "source": [
    "x = 5\n",
    "\n",
    "def twenty_twenty_four():\n",
    "    \"\"\"Come up with the most creative expression that evaluates to 2024\n",
    "    using only numbers and the +, *, and - operators.\n",
    "\n",
    "    >>> twenty_twenty_four()\n",
    "    2024\n",
    "    \"\"\"\n",
    "    return 100*20 + 28 - 4\n",
    "\n",
    "print(twenty_twenty_four())"
   ],
   "outputs": [
    {
     "output_type": "stream",
     "name": "stdout",
     "text": [
      "2024\n"
     ]
    }
   ],
   "metadata": {}
  },
  {
   "cell_type": "code",
   "execution_count": 5,
   "source": [
    "x = 5\n",
    "\n",
    "def twenty_twenty_four():\n",
    "    \"\"\"Come up with the most creative expression that evaluates to 2024\n",
    "    using only numbers and the +, *, and - operators.\n",
    "\n",
    "    >>> twenty_twenty_four()\n",
    "    2024\n",
    "    \"\"\"\n",
    "    return 100*20 + 28 - 4\n",
    "\n",
    "print(twenty_twenty_four())"
   ],
   "outputs": [
    {
     "output_type": "stream",
     "name": "stdout",
     "text": [
      "2024\n"
     ]
    }
   ],
   "metadata": {}
  },
  {
   "cell_type": "code",
   "execution_count": 6,
   "source": [
    "x = 10"
   ],
   "outputs": [],
   "metadata": {}
  }
 ],
 "nbformat": 4,
 "nbformat_minor": 2,
 "metadata": {
  "language_info": {
   "codemirror_mode": {
    "name": "ipython",
    "version": 3
   },
   "file_extension": ".py",
   "mimetype": "text/x-python",
   "name": "python",
   "nbconvert_exporter": "python",
   "pygments_lexer": "ipython3",
   "version": 3
  }
 }
}